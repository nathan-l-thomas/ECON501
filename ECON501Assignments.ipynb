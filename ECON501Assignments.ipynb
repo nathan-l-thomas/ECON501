{
 "cells": [
  {
   "cell_type": "markdown",
   "metadata": {},
   "source": [
    "### Monte Carlo - Distribution of t-statistic"
   ]
  },
  {
   "cell_type": "markdown",
   "metadata": {},
   "source": [
    "$$\n",
    "\\begin{align}\n",
    "\n",
    "Theory: & \\quad t = \\frac{\\bar{x} - E(x)}{s / \\sqrt{n}} \\sim N(0,1) \\\\\n",
    "\n",
    "\\end{align}\n",
    "$$"
   ]
  },
  {
   "cell_type": "code",
   "execution_count": 1,
   "metadata": {},
   "outputs": [
    {
     "data": {
      "text/plain": [
       "[<matplotlib.lines.Line2D at 0x1934d081d50>]"
      ]
     },
     "execution_count": 1,
     "metadata": {},
     "output_type": "execute_result"
    },
    {
     "data": {
      "image/png": "[encoded data removed]",
      "text/plain": [
       "<Figure size 432x288 with 1 Axes>"
      ]
     },
     "metadata": {
      "needs_background": "light"
     },
     "output_type": "display_data"
    }
   ],
   "source": [
    "import numpy as np\n",
    "import matplotlib.pyplot as plt\n",
    "import scipy.stats as stats\n",
    "\n",
    "n = 50\n",
    "k = 4 \n",
    "var = 2*k\n",
    "ts = []\n",
    "\n",
    "# Repeat 10000 times\n",
    "for i in range(10000):\n",
    "    # Draw 50 Samples from a chi-squared distribtion with 4 degrees of freedom\n",
    "    x = np.random.chisquare(k, 50)\n",
    "    # Compute the sample average of those 50 samples\n",
    "    xbar = np.average(x)\n",
    "    # Compute test statistic as (xbar - E(X))/(sqrt(var)/n)\n",
    "    t = (xbar - k)/(np.sqrt(var)/(np.sqrt(n)))\n",
    "    ts.append(t)\n",
    "\n",
    "\n",
    "# Plot histogram of computed t's\n",
    "plt.hist(ts, 25, density=True)\n",
    "# Compare with plot of N(1, 0)\n",
    "xmin, xmax = plt.xlim()\n",
    "x = np.linspace(xmin, xmax, 100)\n",
    "p = stats.norm.pdf(x, 0, 1)\n",
    "plt.plot(x, p, 'k', linewidth=3)\n"
   ]
  },
  {
   "cell_type": "markdown",
   "metadata": {},
   "source": [
    "### Monte Carlo - Confidence Interval for $\\bar{X} - 4\\bar{Y}$"
   ]
  },
  {
   "cell_type": "markdown",
   "metadata": {},
   "source": [
    "$$\n",
    "\\begin{align}\n",
    "\n",
    "\n",
    "\n",
    "P((\\bar{X} - 4\\bar{Y}) - 1.96 \\times SE(\\bar{X} - 4\\bar{Y}) < \\mu_x - 4\\mu_y < (\\bar{X} - 4\\bar{Y}) + 1.96 \\times SE(\\bar{X} - 4\\bar{Y})) = .95 \\\\\n",
    "\n",
    "\n",
    "\\end{align}\n",
    "$$"
   ]
  },
  {
   "cell_type": "code",
   "execution_count": 2,
   "metadata": {},
   "outputs": [
    {
     "name": "stdout",
     "output_type": "stream",
     "text": [
      "Theoretical: 95%\n",
      "Numerical: 94.96%\n"
     ]
    }
   ],
   "source": [
    "xbar = 10\n",
    "ybar = 15\n",
    "n1 = 50\n",
    "n2 = 50\n",
    "s1 = 2\n",
    "s2 = 3\n",
    "\n",
    "point_estimate = xbar - 4 * ybar\n",
    "se = np.sqrt(((s1**2) / n1) + (((4 * s2)**2) / n2))\n",
    "z =  1.96\n",
    "lower_bound = point_estimate - z * se\n",
    "upper_bound = point_estimate + z * se\n",
    "\n",
    "counter = 0\n",
    "\n",
    "# 10,000 iterations\n",
    "for _ in range(10000):\n",
    "    \n",
    "    # Draw samples of X from N(xbar, s1) and samples of Y from N(ybar, s2)\n",
    "    x_samples = np.random.normal(xbar, s1, n1)\n",
    "    y_samples = np.random.normal(ybar, s2, n2)\n",
    "\n",
    "    # Compute the sample means of X and Y\n",
    "    xbar_sample = np.mean(x_samples)\n",
    "    ybar_sample = np.mean(y_samples)\n",
    "\n",
    "    # Calculate the sample difference xbar - 4 * ybar\n",
    "    difference = xbar_sample - 4 * ybar_sample\n",
    "\n",
    "    # Check if mean difference falls inside the interval\n",
    "    if lower_bound <= difference <= upper_bound:\n",
    "        counter += 1\n",
    "\n",
    "# Calculate the ratio of differences within the confidence interval\n",
    "ratio = counter / 10000\n",
    "\n",
    "# Compare with theoretical 95% confidence level\n",
    "print(\"Theoretical: 95%\")\n",
    "print(f\"Numerical: {ratio*100}%\")"
   ]
  },
  {
   "cell_type": "markdown",
   "metadata": {},
   "source": [
    "### Monte Carlo - Expectation of $\\hat{\\beta}_0$"
   ]
  },
  {
   "cell_type": "markdown",
   "metadata": {},
   "source": [
    "$$\n",
    "\\begin{align}\n",
    "\n",
    " Theory: & \\quad E\\left(\\hat{\\beta}_0\\right) = \\beta_0 \\\\\n",
    "\n",
    "\\end{align}\n",
    "$$"
   ]
  },
  {
   "cell_type": "code",
   "execution_count": 3,
   "metadata": {},
   "outputs": [
    {
     "name": "stdout",
     "output_type": "stream",
     "text": [
      "Theoretical: 1 \n",
      "Numerical: 0.9985113260596243\n"
     ]
    }
   ],
   "source": [
    "import pandas as pd\n",
    "xs = pd.read_csv('econdata.csv')\n",
    "b = []\n",
    "\n",
    "# Repeat 10000 times\n",
    "for _ in range(10000):\n",
    "    x = []\n",
    "    y = []\n",
    "    for xi in xs.x:\n",
    "        # Set Beta 0 = 1, Beta 1 = 2\n",
    "        b0 = 1\n",
    "        b1 = 2\n",
    "        # Generate samples of ui, where ui ~N(0,1)\n",
    "        ui = int(np.random.normal(0, 1, 1)[0])\n",
    "        # Calculate yi for each x\n",
    "        yi = b0 + b1*xi + ui\n",
    "        x.append(xi)\n",
    "        y.append(yi)\n",
    "    # Regress y on x, store Beta 0\n",
    "    beta1 = np.sum((x - np.mean(x)) * (y - np.mean(y))) / np.sum((x - np.mean(x)) ** 2)\n",
    "    beta0 = np.mean(y) - beta1 * np.mean(x)\n",
    "    b.append(beta0)\n",
    "# Compute average of [Beta 0_1,...Beta 0_10000]\n",
    "average = np.average(b)\n",
    "\n",
    "# Compare average of [Beta 0_1,...Beta 0_10000] to 1\n",
    "print(f'Theoretical: 1 \\nNumerical: {average}')"
   ]
  },
  {
   "cell_type": "markdown",
   "metadata": {},
   "source": [
    "### Regression"
   ]
  },
  {
   "cell_type": "code",
   "execution_count": 4,
   "metadata": {},
   "outputs": [
    {
     "name": "stdout",
     "output_type": "stream",
     "text": [
      "                            OLS Regression Results                            \n",
      "==============================================================================\n",
      "Dep. Variable:                  bwght   R-squared:                       0.045\n",
      "Model:                            OLS   Adj. R-squared:                  0.042\n",
      "Method:                 Least Squares   F-statistic:                     14.07\n",
      "Date:                Mon, 17 Jul 2023   Prob (F-statistic):           3.20e-11\n",
      "Time:                        19:17:33   Log-Likelihood:                -5242.3\n",
      "No. Observations:                1192   AIC:                         1.049e+04\n",
      "Df Residuals:                    1187   BIC:                         1.052e+04\n",
      "Df Model:                           4                                         \n",
      "Covariance Type:            nonrobust                                         \n",
      "==============================================================================\n",
      "                 coef    std err          t      P>|t|      [0.025      0.975]\n",
      "------------------------------------------------------------------------------\n",
      "Intercept    113.1683      1.782     63.508      0.000     109.672     116.664\n",
      "faminc         0.0737      0.032      2.284      0.023       0.010       0.137\n",
      "parity         1.8891      0.655      2.886      0.004       0.605       3.173\n",
      "male           3.7830      1.145      3.304      0.001       1.537       6.029\n",
      "cigs          -0.5833      0.108     -5.383      0.000      -0.796      -0.371\n",
      "==============================================================================\n",
      "Omnibus:                      123.592   Durbin-Watson:                   1.962\n",
      "Prob(Omnibus):                  0.000   Jarque-Bera (JB):              899.810\n",
      "Skew:                          -0.099   Prob(JB):                    4.06e-196\n",
      "Kurtosis:                       7.252   Cond. No.                         123.\n",
      "==============================================================================\n",
      "\n",
      "Notes:\n",
      "[1] Standard Errors assume that the covariance matrix of the errors is correctly specified.\n"
     ]
    }
   ],
   "source": [
    "import pandas as pd\n",
    "import statsmodels.formula.api as smf\n",
    "data = pd.read_csv('bwght_mod.csv')\n",
    "results = smf.ols('bwght ~ faminc + parity + male + cigs', data=data).fit()\n",
    "print(results.summary())"
   ]
  },
  {
   "cell_type": "markdown",
   "metadata": {},
   "source": [
    "#### Interpretation of constants\n",
    "\n",
    "$$\n",
    "\\begin{alignat*}{2}\n",
    "\n",
    "& \\beta_{1} = 0.07      &\\quad &\\textrm{an increase in family income of 1,000 will increase baby weight by 0.07 ounces} \\\\\n",
    "& \\beta_{2} = 1.89      &\\quad &\\textrm{an increase in parity (birth order) of 1, will increase baby weight by 1.89 ounces.s} \\\\\n",
    "& \\beta_{3} = 3.78      &\\quad &\\textrm{a male baby will weigh am average of 3.78 ounces more than a female baby} \\\\\n",
    "& \\beta_{3} = -.058     &\\quad &\\textrm{an increase of cigarettes smoked (per day) by 1, will decrease baby weigh by 0.583 ounces} \\\\\n",
    "\n",
    "\\end{alignat*}\n",
    "$$"
   ]
  },
  {
   "cell_type": "markdown",
   "metadata": {},
   "source": [
    "#### Interpretation of p-value for male dummary (indicator) variable\n",
    "\n",
    "The p-value for the male dummy coefficient is 0.001. This is the probability of getting a\n",
    "test statistic as extreme or more extreme than 3.304 if the null hypothesis is true. In this case, the null hypothesis would state that there is no difference in baby birth weight between male and female babies ($ \\beta_{1} = 0$) The low p-value suggests that the chance of this is low based on the data provided."
   ]
  },
  {
   "cell_type": "markdown",
   "metadata": {},
   "source": [
    "#### Statistical conclusion\n",
    "\n",
    "Assuming the null hypothesis ($ \\beta_{3} = 0$) is true, seeing a test statistic more extreme than\n",
    "3.304 is very unlikely (1 in 1,000). Thus $ \\beta_{3} = 0$ is unlikely. It follows that it is highly\n",
    "likely that $ \\beta_{3} \\neq 0$, that is, being male has an effect on birth weight."
   ]
  },
  {
   "cell_type": "markdown",
   "metadata": {},
   "source": [
    "#### Interpretation of F-Statistic\n",
    "\n",
    "The F-statistic is 14.07. The null hypothesis for the F-test claims no predictive\n",
    "relationship between any of the variables and baby weight in the population. Assuming\n",
    "the null hypothesis ($\\beta_{1} = \\beta_{2} = \\beta_{n} = 0$) is true, the probability of getting a test-statistic (F)\n",
    "of 14.07 or more is extremely unlikely (3.20e-11 or 1/31 billion). Thus it is likely $\\beta_{j} \\neq 0$)\n",
    "for at least one j. It follows that it is extremely likely that some variables have a non-zero\n",
    "slope/effect on baby weight."
   ]
  },
  {
   "cell_type": "code",
   "execution_count": 5,
   "metadata": {},
   "outputs": [
    {
     "name": "stdout",
     "output_type": "stream",
     "text": [
      "                            OLS Regression Results                            \n",
      "==============================================================================\n",
      "Dep. Variable:                  bwght   R-squared:                       0.039\n",
      "Model:                            OLS   Adj. R-squared:                  0.036\n",
      "Method:                 Least Squares   F-statistic:                     15.89\n",
      "Date:                Mon, 17 Jul 2023   Prob (F-statistic):           3.93e-10\n",
      "Time:                        19:17:33   Log-Likelihood:                -5246.4\n",
      "No. Observations:                1192   AIC:                         1.050e+04\n",
      "Df Residuals:                    1188   BIC:                         1.052e+04\n",
      "Df Model:                           3                                         \n",
      "Covariance Type:            nonrobust                                         \n",
      "==============================================================================\n",
      "                 coef    std err          t      P>|t|      [0.025      0.975]\n",
      "------------------------------------------------------------------------------\n",
      "Intercept    116.3898      1.393     83.540      0.000     113.656     119.123\n",
      "faminc         0.0689      0.032      2.133      0.033       0.006       0.132\n",
      "male           3.7083      1.148      3.230      0.001       1.456       5.961\n",
      "cigs          -0.5730      0.109     -5.275      0.000      -0.786      -0.360\n",
      "==============================================================================\n",
      "Omnibus:                      121.871   Durbin-Watson:                   1.959\n",
      "Prob(Omnibus):                  0.000   Jarque-Bera (JB):              865.443\n",
      "Skew:                          -0.106   Prob(JB):                    1.18e-188\n",
      "Kurtosis:                       7.169   Cond. No.                         101.\n",
      "==============================================================================\n",
      "\n",
      "Notes:\n",
      "[1] Standard Errors assume that the covariance matrix of the errors is correctly specified.\n"
     ]
    }
   ],
   "source": [
    "# Parity is ommited from the regression\n",
    "results = smf.ols('bwght ~ faminc + male + cigs', data=data).fit()\n",
    "print(results.summary())"
   ]
  },
  {
   "cell_type": "markdown",
   "metadata": {},
   "source": [
    "#### Ommited variable bias\n",
    "\n",
    "Theoretically, omitting birth order (parity) will lead to omitted variable bias unless a) $\\beta_{2} = 0$,\n",
    "or b) the correlation between parity (birth order) and birthweight is 0. Regressing birthweight and omitting birth order, the regression model does change but it does not change substantially. This makes sense as the correlation matrix below shows\n",
    "that parity (birth order) and birthweight have a low correlation coefficient of .07,\n",
    "implying that b.) is true - the correlation between parity and birthweight is (close\n",
    "to) 0"
   ]
  },
  {
   "cell_type": "code",
   "execution_count": 6,
   "metadata": {},
   "outputs": [
    {
     "data": {
      "image/png": "[encoded data removed]",
      "text/plain": [
       "<Figure size 432x288 with 2 Axes>"
      ]
     },
     "metadata": {
      "needs_background": "light"
     },
     "output_type": "display_data"
    }
   ],
   "source": [
    "import seaborn as sn\n",
    "import matplotlib.pyplot as plt\n",
    "corr_data = data.corr()\n",
    "sn.heatmap(corr_data, annot=True, cmap='gray')\n",
    "plt.show()"
   ]
  },
  {
   "cell_type": "markdown",
   "metadata": {},
   "source": [
    "#### Hypothesis test\n",
    "Test statistically if coefficient on number of cigarettes in the model with birth order equals 3.\n",
    "$$\n",
    "\\begin{gather}\n",
    "H_{0}: \\beta_{4} = 0 \\\\\n",
    "H_{1}: \\beta_{4} \\neq 0 \\\\\n",
    "\\\\\n",
    "t = \\frac {-0.583 - 3}{ 0.108} = -33.17 \\\\\n",
    "df = n - k - 1 = 1187 \\\\\n",
    "p(>|{t}|) << .0001 \n",
    "\\end{gather}\n",
    "$$\n",
    "\n",
    "Assuming the null hypothesis ($\\beta_{4} = 0$), is true, seeing a test statistic more than extreme\n",
    "-33.17 is unlikely (<< .0001). Thus is unlikely ($\\beta_{4} = 0$). It follows that it is likely that\n",
    "$\\beta_{4} \\neq 0$, that is, an increase in cigarettes smoked by 1, will not increase baby weight by 3\n",
    "ounces.\n"
   ]
  },
  {
   "cell_type": "code",
   "execution_count": 7,
   "metadata": {},
   "outputs": [
    {
     "name": "stdout",
     "output_type": "stream",
     "text": [
      "                            OLS Regression Results                            \n",
      "==============================================================================\n",
      "Dep. Variable:                  price   R-squared:                       0.632\n",
      "Model:                            OLS   Adj. R-squared:                  0.623\n",
      "Method:                 Least Squares   F-statistic:                     72.96\n",
      "Date:                Mon, 17 Jul 2023   Prob (F-statistic):           3.57e-19\n",
      "Time:                        19:17:33   Log-Likelihood:                -488.00\n",
      "No. Observations:                  88   AIC:                             982.0\n",
      "Df Residuals:                      85   BIC:                             989.4\n",
      "Df Model:                           2                                         \n",
      "Covariance Type:            nonrobust                                         \n",
      "==============================================================================\n",
      "                 coef    std err          t      P>|t|      [0.025      0.975]\n",
      "------------------------------------------------------------------------------\n",
      "Intercept    -19.3150     31.047     -0.622      0.536     -81.044      42.414\n",
      "sqrft          0.1284      0.014      9.291      0.000       0.101       0.156\n",
      "bdrms         15.1982      9.484      1.603      0.113      -3.658      34.054\n",
      "==============================================================================\n",
      "Omnibus:                       25.221   Durbin-Watson:                   1.858\n",
      "Prob(Omnibus):                  0.000   Jarque-Bera (JB):               44.973\n",
      "Skew:                           1.122   Prob(JB):                     1.72e-10\n",
      "Kurtosis:                       5.689   Cond. No.                     9.85e+03\n",
      "==============================================================================\n",
      "\n",
      "Notes:\n",
      "[1] Standard Errors assume that the covariance matrix of the errors is correctly specified.\n",
      "[2] The condition number is large, 9.85e+03. This might indicate that there are\n",
      "strong multicollinearity or other numerical problems.\n"
     ]
    }
   ],
   "source": [
    "data = pd.read_csv('hprice1_mod.csv')\n",
    "results = smf.ols('price ~ sqrft + bdrms', data=data).fit()\n",
    "print(results.summary())"
   ]
  },
  {
   "cell_type": "markdown",
   "metadata": {},
   "source": [
    "#### Regression with $\\theta$\n",
    "Increase in price assuming bedrooms increase by 3 and square feet increase by 200:\n",
    "Price increase = .128(200) + 15.198(3) = 71.275 = $71,275\n",
    "#### 95% Confidence Interval\n",
    "\n",
    "$$\n",
    "\\begin{gather}\n",
    "H_{0}: SE(200\\hat{\\beta}_{1} + 3\\hat{\\beta}_{2}) = 0 \\\\\n",
    "200\\hat{\\beta}_{1} + 3\\hat{\\beta}_{2} = \\theta \\implies \\hat{\\beta}_{2} = \\frac{\\theta - 200\\hat{\\beta}_{1}}{3}\n",
    "\\end{gather}\n",
    "$$\n",
    "\n",
    "$$\n",
    "\\begin{align}\n",
    "Price &= \\beta_{0} + \\beta_{1}SQ + \\beta_{2}BR \\\\\n",
    "&= \\beta_{0} + \\beta_{1}SQ + \\left(\\frac{\\theta - 200\\hat{\\beta}_{1}}{3}\\right)BR \\\\\n",
    "&= \\beta_{0} + \\beta_{1}SQ + \\frac{\\theta BR}{3} - \\frac{200\\hat{\\beta}_{1} BR}{3} \\\\\n",
    "&= \\beta_{0} + \\frac{\\theta BR}{3} + \\beta_{1}\\left(SQ - \\frac{200BR}{3}\\right)\n",
    "\n",
    "\\end{align}\n",
    "$$\n"
   ]
  },
  {
   "cell_type": "code",
   "execution_count": 8,
   "metadata": {},
   "outputs": [
    {
     "name": "stdout",
     "output_type": "stream",
     "text": [
      "                            OLS Regression Results                            \n",
      "==============================================================================\n",
      "Dep. Variable:                  price   R-squared:                       0.632\n",
      "Model:                            OLS   Adj. R-squared:                  0.623\n",
      "Method:                 Least Squares   F-statistic:                     72.96\n",
      "Date:                Mon, 17 Jul 2023   Prob (F-statistic):           3.57e-19\n",
      "Time:                        19:17:33   Log-Likelihood:                -488.00\n",
      "No. Observations:                  88   AIC:                             982.0\n",
      "Df Residuals:                      85   BIC:                             989.4\n",
      "Df Model:                           2                                         \n",
      "Covariance Type:            nonrobust                                         \n",
      "==============================================================================\n",
      "                 coef    std err          t      P>|t|      [0.025      0.975]\n",
      "------------------------------------------------------------------------------\n",
      "Intercept    -19.3150     31.047     -0.622      0.536     -81.044      42.414\n",
      "col1           0.1284      0.014      9.291      0.000       0.101       0.156\n",
      "col2          71.2818     27.083      2.632      0.010      17.434     125.129\n",
      "==============================================================================\n",
      "Omnibus:                       25.221   Durbin-Watson:                   1.858\n",
      "Prob(Omnibus):                  0.000   Jarque-Bera (JB):               44.973\n",
      "Skew:                           1.122   Prob(JB):                     1.72e-10\n",
      "Kurtosis:                       5.689   Cond. No.                     1.05e+04\n",
      "==============================================================================\n",
      "\n",
      "Notes:\n",
      "[1] Standard Errors assume that the covariance matrix of the errors is correctly specified.\n",
      "[2] The condition number is large, 1.05e+04. This might indicate that there are\n",
      "strong multicollinearity or other numerical problems.\n"
     ]
    }
   ],
   "source": [
    "data['col1'] = data['sqrft'] - (200*data['bdrms'])/3\n",
    "data['col2'] = data['bdrms']/3\n",
    "results = smf.ols('price ~ col1 + col2', data=data).fit()\n",
    "print(results.summary())"
   ]
  },
  {
   "cell_type": "markdown",
   "metadata": {},
   "source": [
    "#### Interpretation\n",
    "\n",
    "Price is regressed on $\\frac{BR}{3}$ and $SQ - \\frac{200BR}{3}$. The 95% confidence interval for the increase in house price given\n",
    "an increase in 3 bedrooms and 200 square-feet is [17.434, 125.129] or between 17,434 dollars\n",
    "and 125,129 dollars. Out of 100 random confidence intervals, 100 out of 95 of those intervals would contain\n",
    "the true population parameter for the increase in home price given an increase in\n",
    "bedrooms of 3 and an increase of square footage by 200."
   ]
  },
  {
   "cell_type": "markdown",
   "metadata": {},
   "source": [
    "#### Restricted F-test\n",
    "\n",
    "$$\n",
    "\\begin{gather}\n",
    "H_{0}: \\beta_{2} = 0 \\\\\n",
    "H_{1}: \\beta_{2} \\neq 0 \\\\\n",
    "\n",
    "\\\\\n",
    "\n",
    "\n",
    "\\textrm{Unrestriced model: } Price = \\beta_{0} + \\beta_{1}SQ + \\beta_{2}BR + \\epsilon \\\\\n",
    "\\textrm{Restriced model: }  Price = \\beta_{0} + \\beta_{1}SQ + \\epsilon \\\\\n",
    "\n",
    "\\end{gather}\n",
    "$$\n",
    "\n"
   ]
  },
  {
   "cell_type": "code",
   "execution_count": 9,
   "metadata": {},
   "outputs": [
    {
     "name": "stdout",
     "output_type": "stream",
     "text": [
      "Unrestriced: 0.6319184012190724\n",
      "Restriced: 0.6207967283897788\n"
     ]
    }
   ],
   "source": [
    "data = pd.read_csv('hprice1_mod.csv')\n",
    "unrestricted = smf.ols('price ~ sqrft + bdrms', data=data).fit()\n",
    "restricted = smf.ols('price ~ sqrft', data=data).fit()\n",
    "\n",
    "\n",
    "print(f'Unrestriced: {unrestricted.rsquared}')\n",
    "print(f'Restriced: {restricted.rsquared}')"
   ]
  },
  {
   "cell_type": "markdown",
   "metadata": {},
   "source": [
    "$$\n",
    "\\begin{align}\n",
    "F &= \\frac{(R^2_{ur} - R^2_r) / q}{(1 - R^2_{ur}) / (n - k - 1)} \\\\\n",
    "&= \\frac{(0.632 - 0.621) / q}{(1 - 0.632) / (n - k - 1)} = 2.568\\\\\n",
    "\\\\\n",
    "&P(>F) = 0.1127 \\\\\n",
    "\n",
    "\\end{align}\n",
    "$$\n",
    "\n",
    "Assuming is true $\\beta_2 = 0$, the probability of getting an F-statistic as extreme or more\n",
    "extreme than 2.568 is likely (1 in 9). Thus $\\beta_2 = 0$ is likey. It follows that $\\beta_2 = 0$ is\n",
    "unlikey, and it is unlikely that the number of bedrooms affects the price of houses."
   ]
  },
  {
   "cell_type": "code",
   "execution_count": 11,
   "metadata": {},
   "outputs": [
    {
     "name": "stdout",
     "output_type": "stream",
     "text": [
      "Average cigarettes smoked: 1.8 \n",
      "                            OLS Regression Results                            \n",
      "==============================================================================\n",
      "Dep. Variable:                  bwght   R-squared:                       0.035\n",
      "Model:                            OLS   Adj. R-squared:                  0.033\n",
      "Method:                 Least Squares   F-statistic:                     21.61\n",
      "Date:                Mon, 17 Jul 2023   Prob (F-statistic):           6.06e-10\n",
      "Time:                        19:19:29   Log-Likelihood:                -5248.6\n",
      "No. Observations:                1192   AIC:                         1.050e+04\n",
      "Df Residuals:                    1189   BIC:                         1.052e+04\n",
      "Df Model:                           2                                         \n",
      "Covariance Type:            nonrobust                                         \n",
      "==============================================================================\n",
      "                 coef    std err          t      P>|t|      [0.025      0.975]\n",
      "------------------------------------------------------------------------------\n",
      "Intercept    116.4215      1.462     79.651      0.000     113.554     119.289\n",
      "cigs          -0.6243      0.107     -5.813      0.000      -0.835      -0.414\n",
      "white          4.9780      1.580      3.150      0.002       1.878       8.078\n",
      "==============================================================================\n",
      "Omnibus:                      116.869   Durbin-Watson:                   1.930\n",
      "Prob(Omnibus):                  0.000   Jarque-Bera (JB):              780.244\n",
      "Skew:                          -0.109   Prob(JB):                    3.73e-170\n",
      "Kurtosis:                       6.958   Cond. No.                         20.7\n",
      "==============================================================================\n",
      "\n",
      "Notes:\n",
      "[1] Standard Errors assume that the covariance matrix of the errors is correctly specified.\n"
     ]
    }
   ],
   "source": [
    "data = pd.read_csv('bwght_mod.csv')\n",
    "avg_cigs = round(data['cigs'].mean(),1)\n",
    "results = smf.ols('bwght ~ cigs + white', data=data).fit()\n",
    "print(f'Average cigarettes smoked: {avg_cigs} ')\n",
    "print(results.summary())"
   ]
  },
  {
   "cell_type": "markdown",
   "metadata": {},
   "source": [
    "## Average baby weight\n",
    "Computing average baby weight for white and non-white groups assuming each group smokes the average number of cigarettes smoked (1.8):\n",
    "### White Groups\n",
    "#### Average\n",
    "$$\n",
    "\\begin{align}\n",
    "E(BW|W=1) &= E(\\beta_0 + \\beta_1 av.cigs + \\beta_2 white) \\\\\n",
    "&= E(\\beta_0) + E(\\beta_1 av.cigs) + (\\beta_2 white) \\\\\n",
    "&= \\beta_0 + \\beta_1 av.cigs + \\beta_2 white \\\\\n",
    "&= 116.42 - 0.62(1.8) + 4.98 \\\\\n",
    "&= 120.28\n",
    "\n",
    "\\end{align}\n",
    "$$\n",
    "\n",
    "#### 95% Confidence interval for white groups\n",
    "\n",
    "$$\n",
    "\\begin{gather}\n",
    "\\theta = \\beta_0 + \\beta_1 av.cigs + \\beta_2 white + \\epsilon \\implies \\beta_0 = \\theta - \\beta_1 av.cigs + \\beta_2 white + \\epsilon \\\\\n",
    "(\\theta - \\beta_1 av.cigs \\beta_2 white) + \\beta_1 cigs + \\beta_2 + \\epsilon \\\\\n",
    "\\theta + \\beta_1 (cigs - av.cigs) + \\beta_2 (white - 1) + \\epsilon\n",
    "\n",
    "\\end{gather}\n",
    "$$"
   ]
  },
  {
   "cell_type": "code",
   "execution_count": null,
   "metadata": {},
   "outputs": [],
   "source": [
    "#Regressing baby weight on [cigs - 1.8] and [white - 1]:\n",
    "data['col1'] = data['cigs'] - 1.8\n",
    "data['col2'] = data['white'] - 1\n",
    "results = smf.ols('bwght ~ col1 + col2', data=data).fit()\n",
    "print(results.summary())"
   ]
  },
  {
   "cell_type": "markdown",
   "metadata": {},
   "source": [
    "#### CI (95%) = [119.05, 121.50]"
   ]
  },
  {
   "cell_type": "markdown",
   "metadata": {},
   "source": [
    "### Non-white groups\n",
    "#### Average\n",
    "$$\n",
    "\\begin{align}\n",
    "E(BW|W=0) &= E(\\beta_0 + \\beta_1 av.cigs) \\\\\n",
    "&= E(\\beta_0) + E(\\beta_1 av.cigs) \\\\\n",
    "&= \\beta_0 + \\beta_1 av.cigs \\\\\n",
    "&= 116.42 - 0.62(1.8) \\\\\n",
    "&= 115.30\n",
    "\n",
    "\\end{align}\n",
    "$$\n",
    "\n",
    "#### 95% Confidence interval for non-white groups\n",
    "\n",
    "$$\n",
    "\\begin{gather}\n",
    "\\theta = \\beta_0 + \\beta_1 av.cigs + \\epsilon \\implies \\beta_0 = \\theta - \\beta_1 av.cigs + \\epsilon \\\\\n",
    "(\\theta - \\beta_1 av.cigs) + \\beta_1 cigs + \\beta_2 + \\epsilon \\\\\n",
    "\n",
    "\\theta + \\beta_1 (cigs - av.cigs) + \\beta_2 white + \\epsilon\n",
    "\n",
    "\\end{gather}\n",
    "$$\n",
    "\n"
   ]
  },
  {
   "cell_type": "code",
   "execution_count": null,
   "metadata": {},
   "outputs": [],
   "source": [
    "results = smf.ols('bwght ~ col1 + white', data=data).fit()\n",
    "print(results.summary())"
   ]
  },
  {
   "cell_type": "markdown",
   "metadata": {},
   "source": [
    "#### CI (95%) = [112.45, 118.15]"
   ]
  },
  {
   "cell_type": "markdown",
   "metadata": {},
   "source": [
    "#### Algorithm"
   ]
  },
  {
   "cell_type": "markdown",
   "metadata": {},
   "source": [
    "#### Hypothesis test - difference in birth weight between groups\n",
    "$$\n",
    "\\begin{gather}\n",
    "\n",
    "Test: (BW|W=1) = (BW|W=0) \\\\\n",
    "H_0: \\beta_0 + \\beta_1 av.cigs + \\beta_2 white = \\beta_0 + \\beta_1 av.cigs \\implies \\beta_2 = 0 \\\\\n",
    "H_1: \\beta_2 \\neq 0\n",
    "\n",
    "\\end{gather}\n",
    "$$\n",
    "\n",
    "The original regression table shows a p-value for $\\beta_2$ (white) of 0.002. This implies that assuming\n",
    "the null hypothesis is true ($\\beta_2=0$), seeing a test statistic (t) more than extreme 3.15 is unlikely (1\n",
    "in 500). Thus it is unlikely that $\\beta_2=0$ . It follows that it is likely that $\\beta_2 \\neq 0$, that is, birthweight is\n",
    "impacted by whether the baby is white or non-white.\n"
   ]
  },
  {
   "cell_type": "markdown",
   "metadata": {},
   "source": [
    "### Monte Carlo\n",
    "You roll two four-sided dice and earn the sum of outcomes plus 3.\n",
    "#### Expected Earnings\n",
    "\n",
    "$$\n",
    "\\begin{gather}\n",
    "&X = \\textrm{outcome of first roll} \\\\\n",
    "&Y = \\textrm{outcome of second roll} \\\\\n",
    "&E(X) = E(Y) = \\frac{1}{4}\\sum_{i=1}^{n=4} = 2.5 \\\\\n",
    "\\end{gather}\n",
    "$$\n",
    "\n",
    "$$\n",
    "\\begin{alignat*}{2}\n",
    "E(W) &= E(X + Y + 3) &\\quad &\\textrm{given} \\\\\n",
    "&=E(X) +E(Y) + E(3)  &\\quad &E(a_{1}X_{1} + \\cdots a_{n}X_{n}) = a_{1}E(X_{1})+ \\cdots a_{n}E(X_{n})\\\\\n",
    "&=2.5 + 2.5 + 3      &\\quad &E(c) = c\\\\\n",
    "&=8     &\\quad &\\textrm{addition}\\\\\n",
    "\n",
    "\\end{alignat*}\n",
    "$$\n"
   ]
  },
  {
   "cell_type": "code",
   "execution_count": null,
   "metadata": {},
   "outputs": [],
   "source": [
    "from numpy import random\n",
    "theory = 8\n",
    "\n",
    "def roll_two_dice():\n",
    "    s = [1, 2, 3, 4]\n",
    "    X = random.choice(s)\n",
    "    Y = random.choice(s)\n",
    "    return X + Y + 3\n",
    "\n",
    "payouts = [roll_two_dice() for _ in range(10000)]\n",
    "\n",
    "print(sum(payouts) / len(payouts))\n"
   ]
  },
  {
   "cell_type": "markdown",
   "metadata": {},
   "source": [
    "### Monte Carlo\n",
    "You roll three five-sided dice and earn the sum of outcomes minus 3.\n",
    "#### Variance of Earnings"
   ]
  },
  {
   "cell_type": "markdown",
   "metadata": {},
   "source": [
    "\n",
    "$$\n",
    "\\begin{gather}\n",
    "&X = \\textrm{outcome of first roll} \\\\\n",
    "&Y = \\textrm{outcome of second roll} \\\\\n",
    "&Z = \\textrm{outcome of third roll} \\\\\n",
    "&E(X) = E(Y) = E(Z) = \\frac{1}{5}\\sum_{i=1}^{n=5} = 3 \\\\\n",
    "&Var(X) = Var(Y) = Var(Z) = \\frac{1}{5}\\sum_{i=1}^{n=5}\\left(X_{i} - E(X))^2\\right) = 2\n",
    "\\end{gather}\n",
    "$$\n",
    "\n",
    "$$\n",
    "\\begin{alignat*}{2}\n",
    "Var(W) &= Var(X + Y + Z - 3)    &\\quad &\\textrm{given} \\\\\n",
    "&=Var(X) +Var(Y) + Var(Z) - 0   &\\quad &\\textrm{independence}\\implies Var(a_{1}X_{1} + \\cdots a_{n}X_{n}) = a^{2}_{1}Var(X_{1})+ \\cdots a^{2}_{1}Var(X_{n})\\\\\n",
    "&=2 + 2 + 2                     &\\quad &\\textrm{calculated}\\\\\n",
    "&=6                             &\\quad &\\textrm{addition}\\\\\n",
    "\n",
    "\\end{alignat*}\n",
    "$$\n"
   ]
  },
  {
   "cell_type": "code",
   "execution_count": null,
   "metadata": {},
   "outputs": [],
   "source": [
    "theory = 6\n",
    "\n",
    "def roll_three_dice():\n",
    "    s = [1, 2, 3, 4, 5]\n",
    "    X = random.choice(s)\n",
    "    Y = random.choice(s)\n",
    "    Z = random.choice(s)\n",
    "    return X + Y + Z - 3\n",
    "\n",
    "payouts = [roll_three_dice() for _ in range(10000)]\n",
    "\n",
    "E = sum(payouts) / len(payouts)\n",
    "Var = sum((i - E) ** 2 for _ in payouts) / len(payouts)\n",
    "\n",
    "print(Var)"
   ]
  }
 ],
 "metadata": {
  "kernelspec": {
   "display_name": "data_science",
   "language": "python",
   "name": "python3"
  },
  "language_info": {
   "codemirror_mode": {
    "name": "ipython",
    "version": 3
   },
   "file_extension": ".py",
   "mimetype": "text/x-python",
   "name": "python",
   "nbconvert_exporter": "python",
   "pygments_lexer": "ipython3",
   "version": "3.10.5"
  },
  "orig_nbformat": 4
 },
 "nbformat": 4,
 "nbformat_minor": 2
}
